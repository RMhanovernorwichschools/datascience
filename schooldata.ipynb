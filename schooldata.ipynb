{
 "cells": [
  {
   "cell_type": "markdown",
   "metadata": {},
   "source": [
    "# School Census Analysis\n",
    "\n",
    "The data is a 500-record dataset from the American Statistical Association's survey, U.S. Census at School (link: https://ww2.amstat.org/censusatschool/ Excel format: http://bit.ly/2VuOA98)\n",
    "\n",
    "No explanations of field names provided. Some answers may not be valid data as the survey is self-completed."
   ]
  },
  {
   "cell_type": "code",
   "execution_count": 26,
   "metadata": {},
   "outputs": [],
   "source": [
    "import matplotlib.pyplot as plt\n",
    "import pandas as pd\n",
    "import numpy as np\n",
    "pd.options.mode.chained_assignment = None  # default='warn'"
   ]
  },
  {
   "cell_type": "code",
   "execution_count": 27,
   "metadata": {},
   "outputs": [],
   "source": [
    "sdf=pd.read_excel(\"http://bit.ly/2VuOA98\")"
   ]
  },
  {
   "cell_type": "markdown",
   "metadata": {},
   "source": [
    "The following cells investigate whether or not a correlation exists between age and hours of sleep on school nights. It uses two specific columns from the ASA survey, excluding any answers which aren't numerical."
   ]
  },
  {
   "cell_type": "code",
   "execution_count": 28,
   "metadata": {},
   "outputs": [],
   "source": [
    "sdf_sleep = sdf[['Ageyears', 'Sleep_Hours_Schoolnight']]\n",
    "sdf_sleep.columns = ['Age', 'Sleep_SN']\n",
    "sdf_sleep.Sleep_SN = pd.to_numeric(sdf_sleep.Sleep_SN, errors='coerce')\n",
    "sdf_sleep=sdf_sleep.dropna()"
   ]
  },
  {
   "cell_type": "code",
   "execution_count": 29,
   "metadata": {},
   "outputs": [
    {
     "data": {
      "image/png": "[encoded data removed]",
      "text/plain": [
       "<matplotlib.figure.Figure at 0x7fc919266390>"
      ]
     },
     "metadata": {
      "needs_background": "light"
     },
     "output_type": "display_data"
    },
    {
     "data": {
      "image/png": "[encoded data removed]",
      "text/plain": [
       "<matplotlib.figure.Figure at 0x7fc919329a58>"
      ]
     },
     "metadata": {
      "needs_background": "light"
     },
     "output_type": "display_data"
    }
   ],
   "source": [
    "plt.hist(sdf_sleep.Sleep_SN)\n",
    "plt.title('Hours of Sleep on a School Night')\n",
    "plt.show()\n",
    "\n",
    "plt.hist(sdf_sleep.Age)\n",
    "plt.title('Reported Student Ages (Years)')\n",
    "plt.show()"
   ]
  },
  {
   "cell_type": "markdown",
   "metadata": {},
   "source": [
    "Given the outliers in age and sleep shown by the above histograms, I'll assume that anyone with over 11 or under 2 hours of sleep per school night is lying, as is any student who reports being less than 10 or greater than 24 years old. Note this assumption might be incorrect."
   ]
  },
  {
   "cell_type": "code",
   "execution_count": 30,
   "metadata": {},
   "outputs": [],
   "source": [
    "sdf_sleep = sdf_sleep[sdf_sleep.Age<=24]\n",
    "sdf_sleep = sdf_sleep[sdf_sleep.Age>=10]\n",
    "sdf_sleep = sdf_sleep[sdf_sleep.Sleep_SN<=11]\n",
    "sdf_sleep = sdf_sleep[sdf_sleep.Sleep_SN>=2]"
   ]
  },
  {
   "cell_type": "code",
   "execution_count": 31,
   "metadata": {},
   "outputs": [
    {
     "data": {
      "text/html": [
       "<div>\n",
       "<style>\n",
       "    .dataframe thead tr:only-child th {\n",
       "        text-align: right;\n",
       "    }\n",
       "\n",
       "    .dataframe thead th {\n",
       "        text-align: left;\n",
       "    }\n",
       "\n",
       "    .dataframe tbody tr th {\n",
       "        vertical-align: top;\n",
       "    }\n",
       "</style>\n",
       "<table border=\"1\" class=\"dataframe\">\n",
       "  <thead>\n",
       "    <tr style=\"text-align: right;\">\n",
       "      <th></th>\n",
       "      <th>Age</th>\n",
       "      <th>Sleep_SN</th>\n",
       "    </tr>\n",
       "  </thead>\n",
       "  <tbody>\n",
       "    <tr>\n",
       "      <th>Age</th>\n",
       "      <td>1.000000</td>\n",
       "      <td>-0.078336</td>\n",
       "    </tr>\n",
       "    <tr>\n",
       "      <th>Sleep_SN</th>\n",
       "      <td>-0.078336</td>\n",
       "      <td>1.000000</td>\n",
       "    </tr>\n",
       "  </tbody>\n",
       "</table>\n",
       "</div>"
      ],
      "text/plain": [
       "               Age  Sleep_SN\n",
       "Age       1.000000 -0.078336\n",
       "Sleep_SN -0.078336  1.000000"
      ]
     },
     "execution_count": 31,
     "metadata": {},
     "output_type": "execute_result"
    }
   ],
   "source": [
    "sdf_sleep.corr()"
   ]
  },
  {
   "cell_type": "code",
   "execution_count": 32,
   "metadata": {},
   "outputs": [
    {
     "data": {
      "image/png": "[encoded data removed]",
      "text/plain": [
       "<matplotlib.figure.Figure at 0x7fc91949cc50>"
      ]
     },
     "metadata": {
      "needs_background": "light"
     },
     "output_type": "display_data"
    }
   ],
   "source": [
    "plt.scatter(sdf_sleep.Age, sdf_sleep.Sleep_SN)\n",
    "plt.xlabel('Age in years')\n",
    "plt.ylabel('Hours of Sleep on a School Night')\n",
    "plt.show()"
   ]
  },
  {
   "cell_type": "markdown",
   "metadata": {},
   "source": [
    "Even without the outliers, there is no significant correlation between the dat provided in these two columns, proven by the low value of the two compared mathematically to one another and shown visually in the scatter plot above,"
   ]
  }
 ],
 "metadata": {
  "kernelspec": {
   "display_name": "Python 3",
   "language": "python",
   "name": "python3"
  },
  "language_info": {
   "codemirror_mode": {
    "name": "ipython",
    "version": 3
   },
   "file_extension": ".py",
   "mimetype": "text/x-python",
   "name": "python",
   "nbconvert_exporter": "python",
   "pygments_lexer": "ipython3",
   "version": "3.5.2"
  }
 },
 "nbformat": 4,
 "nbformat_minor": 2
}
